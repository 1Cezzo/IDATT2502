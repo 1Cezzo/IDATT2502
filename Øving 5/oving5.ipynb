import pandas as pd
import seaborn as sns
import matplotlib.pyplot as plt
import numpy as np

column_names = [
    'class', 'cap-shape', 'cap-surface', 'cap-color', 'bruises', 'odor',
    'gill-attachment', 'gill-spacing', 'gill-size', 'gill-color', 'stalk-shape',
    'stalk-root', 'stalk-surface-above-ring', 'stalk-surface-below-ring',
    'stalk-color-above-ring', 'stalk-color-below-ring', 'veil-type', 'veil-color',
    'ring-number', 'ring-type', 'spore-print-color', 'population', 'habitat'
]

df = pd.read_csv('agaricus-lepiota.data', header=None, names=column_names)

plt.figure(figsize=(10, 6))

sns.countplot(data=df, x='habitat', hue='class', palette='Set1')

plt.title('Distribution of Habitat by Mushroom Class (Edible vs Poisonous)', fontsize=16)
plt.xlabel('Habitat', fontsize=12)
plt.ylabel('Count', fontsize=12)

plt.show()

X = df.drop('class', axis=1)
y = df['class']

X_dummies = pd.get_dummies(X)

X_array = X_dummies.to_numpy()

sorted_indices = np.argsort(X_array.sum(axis=1))

X_sorted = X_array[sorted_indices]

plt.spy(X_sorted, markersize=0.01, aspect='auto')
fig = plt.gcf()
fig.set_size_inches(10, 10)
plt.title('Mushroom Feature Space (Dummy Variables)')
plt.xlabel('Features (Dummy Variables)')
plt.ylabel('Samples (Mushrooms)')
plt.show()
